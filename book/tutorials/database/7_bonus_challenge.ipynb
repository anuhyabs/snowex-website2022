{
 "cells": [
  {
   "cell_type": "markdown",
   "metadata": {},
   "source": [
    "# Bonus Challenge: Analyzing Pits\n",
    "\n",
    "LayerData, like pits, have some nuance. This challenge will give us some chance to explore the data and get some practice querying and plotting. \n",
    "This can be done as a small group exercise.\n",
    "\n",
    "Don't forget your [cheat sheets](https://snowexsql.readthedocs.io/en/latest/cheat_sheet.html)! \n",
    "\n",
    "**Goal**: Get more familiar with LayerData and create a vertical profile plot of density\n",
    "\n",
    "**Approach**: \n",
    "\n",
    "1. Connect to the DB\n",
    "2. Explore the data\n",
    "2. Build a query filtering to the dataset you want\n",
    "3. Convert to a GeoDataFrame and plot"
   ]
  },
  {
   "cell_type": "markdown",
   "metadata": {},
   "source": [
    "## Process\n",
    "### Step 1: Get connected"
   ]
  },
  {
   "cell_type": "code",
   "execution_count": 1,
   "metadata": {},
   "outputs": [],
   "source": [
    "# Import the function to get connect to the db\n",
    "from snowexsql.db import get_db\n",
    "\n",
    "# Import our class for the layer data\n",
    "from snowexsql.data import LayerData\n",
    "\n",
    "# Import a useful function to format that data into a dataframe\n",
    "from snowexsql.conversions import query_to_geopandas\n",
    "\n",
    "# Import some tools to build dates \n",
    "from datetime import date\n",
    "\n",
    "# This is what you will use for all of hackweek to access the db\n",
    "db_name = 'snow:hackweek@db.snowexdata.org/snowex'"
   ]
  },
  {
   "cell_type": "markdown",
   "metadata": {},
   "source": [
    "### Step 2: Explore the data"
   ]
  },
  {
   "cell_type": "code",
   "execution_count": 2,
   "metadata": {},
   "outputs": [
    {
     "name": "stdout",
     "output_type": "stream",
     "text": [
      "These are the available columns in the table:\n",
      " \n",
      "* bottom_depth\n",
      "* comments\n",
      "* date\n",
      "* date_accessed\n",
      "* depth\n",
      "* doi\n",
      "* easting\n",
      "* elevation\n",
      "* flags\n",
      "* geom\n",
      "* instrument\n",
      "* latitude\n",
      "* longitude\n",
      "* metadata\n",
      "* northing\n",
      "* observers\n",
      "* pit_id\n",
      "* registry\n",
      "* sample_a\n",
      "* sample_b\n",
      "* sample_c\n",
      "* site_id\n",
      "* site_name\n",
      "* time\n",
      "* time_created\n",
      "* time_updated\n",
      "* type\n",
      "* units\n",
      "* utm_zone\n",
      "* value\n",
      "\n"
     ]
    }
   ],
   "source": [
    "from snowexsql.db import get_table_attributes\n",
    "\n",
    "# print the columns available\n",
    "db_columns = get_table_attributes(LayerData)\n",
    "print(\"These are the available columns in the table:\\n \\n* {}\\n\".format('\\n* '.join(db_columns)))"
   ]
  },
  {
   "cell_type": "markdown",
   "metadata": {},
   "source": [
    "#### Find the site names and site ids"
   ]
  },
  {
   "cell_type": "code",
   "execution_count": 3,
   "metadata": {},
   "outputs": [
    {
     "name": "stdout",
     "output_type": "stream",
     "text": [
      "['American River Basin', 'Boise River Basin', 'Cameron Pass', 'East River', 'Fraser Experimental Forest', 'Grand Mesa', 'Jemez River', 'Little Cottonwood Canyon', 'Mammoth Lakes', 'Niwot Ridge', 'Sagehen Creek', 'Senator Beck']\n"
     ]
    }
   ],
   "source": [
    "# Connect\n",
    "engine, session = get_db(db_name)\n",
    "\n",
    "# Find the distinct site names\n",
    "result = session.query(LayerData.site_name).filter(LayerData.type == 'density').distinct().all()\n",
    "site_names = [r[0] for r in result]\n",
    "\n",
    "# Find the distinct site_names for the site\n",
    "print(site_names)\n",
    "\n",
    "# Close session\n",
    "session.close()"
   ]
  },
  {
   "cell_type": "code",
   "execution_count": 4,
   "metadata": {},
   "outputs": [
    {
     "name": "stdout",
     "output_type": "stream",
     "text": [
      "['Caples Lake']\n"
     ]
    }
   ],
   "source": [
    "# Connect\n",
    "engine, session = get_db(db_name)\n",
    "\n",
    "# We can filter to a site_name, change this to whichever value you want as the site name order may not be consistent\n",
    "site_name = site_names[0]\n",
    "\n",
    "# Find the distinct site ids for a site_name\n",
    "result = session.query(LayerData.site_id)\n",
    "result = result.filter(LayerData.type == 'density')\n",
    "result = result.filter(LayerData.site_name == site_name)\n",
    "\n",
    "result = result.distinct().all()\n",
    "site_ids = [r[0] for r in result]\n",
    "\n",
    "# Find the distinct site_ids for the site\n",
    "print(site_ids)\n",
    "\n",
    "# Close session\n",
    "session.close()"
   ]
  },
  {
   "cell_type": "markdown",
   "metadata": {},
   "source": [
    "### Step 3: Build a query to get the values for 1 pit\n",
    "\n",
    "A few things to keep in mind\n",
    "\n",
    "* You will need to filter to one site_id and one unique date OR one pit_id\n",
    "* You will need the density and depth columns to create a vertical profile"
   ]
  },
  {
   "cell_type": "code",
   "execution_count": 11,
   "metadata": {},
   "outputs": [],
   "source": [
    "# Your code here\n",
    "engine, session = get_db(db_name)\n",
    "dt = date(2019, 12, 20)\n",
    "result = session.query(LayerData)\n",
    "result = result.filter(LayerData.site_name == site_name)\n",
    "result = result.filter(LayerData.type == 'density')\n",
    "result = result.filter(LayerData.date == dt)\n",
    "session.close()"
   ]
  },
  {
   "cell_type": "markdown",
   "metadata": {},
   "source": [
    "### Step 4: Convert to a GeoDataFrame and plot"
   ]
  },
  {
   "cell_type": "code",
   "execution_count": 23,
   "metadata": {
    "tags": [
     "nbsphinx-gallery",
     "nbsphinx-thumbnail"
    ]
   },
   "outputs": [
    {
     "data": {
      "text/plain": [
       "Text(0, 0.5, 'Density')"
      ]
     },
     "execution_count": 23,
     "metadata": {},
     "output_type": "execute_result"
    },
    {
     "data": {
      "image/png": "[encoded data removed]",
      "text/plain": [
       "<Figure size 432x288 with 1 Axes>"
      ]
     },
     "metadata": {
      "needs_background": "light"
     },
     "output_type": "display_data"
    }
   ],
   "source": [
    "# Use the query you built to build a GeoDataFrame and plot the data\n",
    "# Your code here\n",
    "df = query_to_geopandas(result, engine)\n",
    "df['density'] = df['value']\n",
    "df['density'] = df['density'].astype(\"float64\")\n",
    "import matplotlib as plt\n",
    "import pandas as pd\n",
    "new_df = pd.DataFrame(df)\n",
    "plot = new_df.sort_values(by=\"depth\").plot(y=\"density\",x=\"depth\",kind=\"barh\")\n",
    "plot.set_title(f'Vertical Profile for {site_ids} collected on {dt.strftime(\"%Y-%m-%d\")}')\n",
    "plot.set_xlabel(\"Depth\")\n",
    "plot.set_ylabel(\"Density\")"
   ]
  },
  {
   "cell_type": "markdown",
   "metadata": {},
   "source": [
    "### Extra: Can you get the bulk density of the snowpack?"
   ]
  },
  {
   "cell_type": "code",
   "execution_count": 25,
   "metadata": {},
   "outputs": [
    {
     "data": {
      "text/plain": [
       "<matplotlib.lines.Line2D at 0x7f1862a74df0>"
      ]
     },
     "execution_count": 27,
     "metadata": {},
     "output_type": "execute_result"
    }
   ],
   "source": [
    "# Your code here\n",
    "bulk_density = df['density'].mean()\n",
    "plot.axvline(x=bulk_density, color = \"black\")\n",
    "plt.legend([\"mean density\",f'{site_ids} density'])\n",
    "plt.show()"
   ]
  },
  {
   "cell_type": "code",
   "execution_count": null,
   "metadata": {},
   "outputs": [],
   "source": [
    "# a block for closing errant sessions\n",
    "session.close()"
   ]
  }
 ],
 "metadata": {
  "kernelspec": {
   "display_name": "Python 3 (ipykernel)",
   "language": "python",
   "name": "python3"
  },
  "language_info": {
   "codemirror_mode": {
    "name": "ipython",
    "version": 3
   },
   "file_extension": ".py",
   "mimetype": "text/x-python",
   "name": "python",
   "nbconvert_exporter": "python",
   "pygments_lexer": "ipython3",
   "version": "3.10.5"
  }
 },
 "nbformat": 4,
 "nbformat_minor": 4
}
